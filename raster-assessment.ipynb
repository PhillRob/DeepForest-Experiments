{
 "cells": [
  {
   "cell_type": "code",
   "execution_count": 1,
   "metadata": {},
   "outputs": [
    {
     "name": "stderr",
     "output_type": "stream",
     "text": [
      "c:\\Users\\Robeck\\Downloads\\df\\.venv\\lib\\site-packages\\tqdm\\auto.py:22: TqdmWarning: IProgress not found. Please update jupyter and ipywidgets. See https://ipywidgets.readthedocs.io/en/stable/user_install.html\n",
      "  from .autonotebook import tqdm as notebook_tqdm\n"
     ]
    }
   ],
   "source": [
    "#!/usr/bin/env python\n",
    "# -*- coding: utf-8 -*-\n",
    "# imports\n",
    "import rasterio\n",
    "from matplotlib import pyplot\n",
    "import  osgeo\n",
    "# import gdal \n",
    "from osgeo import osr, gdal\n",
    "from PIL import Image\n",
    "from PIL.TiffTags import TAGS\n",
    "from os.path import exists\n",
    "import json\n",
    "from deepforest import main, utilities, get_data, preprocess\n",
    "Image.MAX_IMAGE_PIXELS = None"
   ]
  },
  {
   "cell_type": "code",
   "execution_count": null,
   "metadata": {},
   "outputs": [],
   "source": [
    "\n",
    "src_img =r\"D:\\Dropbox\\P.Robeck\\BPLA Dropbox\\03 Planning\\1297-Makkah-Environmental-Sustainability-Strategy\\02-Data\\02-satellite\\Makkah-WV2-ST-2023_I602488\\Makkah-WV2-ST-2023-MOS\\23JAN19075627-S2AM-Makkah-WV2-ST-2023.TIF\"\n",
    "dst_img= r\"D:\\Dropbox\\P.Robeck\\BPLA Dropbox\\03 Planning\\1297-Makkah-Environmental-Sustainability-Strategy\\02-Data\\03-poc\\23JAN19075627-S2AM-Makkah-WV2-ST-2023.TIF\"\n",
    "# src_img = r\"\\\\?\\D:\\Dropbox\\P.Robeck\\BPLA Dropbox\\07 Temp\\Drone-data\\Dhibiyah\\2_Aerial\\GeoTiff\\Full\\Dhibiyah_Drone_GeoTiff_005.tif\"\n",
    "# dst_img = r\"D:\\Dropbox\\P.Robeck\\BPLA Dropbox\\07 Temp\\Drone-data\\Dhibiyah\\2_Aerial\\GeoTiff\\Full\\Dhibiyah_Drone_GeoTiff_005.png\"\n",
    "\n",
    "# check out input file\n",
    "print(exists(src_img))\n",
    "\n",
    "# img=Image.open(infn)\n",
    "# img.getbands()\n",
    "\n",
    "# reduce bands in tif     '-b 3',\n",
    "#     '-b 2',\n",
    "#     '-b 1',\n",
    "\n",
    "print(exists(dst_img))"
   ]
  },
  {
   "cell_type": "code",
   "execution_count": null,
   "metadata": {},
   "outputs": [],
   "source": [
    "exImg=Image.open(src_img)\n",
    "print(exImg.getbands())\n",
    "print(exImg.size)\n",
    "src = rasterio.open(src_img)\n",
    "\n",
    "transform = src.transform \n",
    "crs = src.crs\n",
    "print(crs)\n",
    "print(src.res)"
   ]
  },
  {
   "cell_type": "code",
   "execution_count": null,
   "metadata": {},
   "outputs": [],
   "source": [
    "model = main.deepforest()\n",
    "model.use_release()\n",
    "\n",
    "img = model.predict_image(path=src_img,return_plot=True)"
   ]
  },
  {
   "cell_type": "code",
   "execution_count": null,
   "metadata": {},
   "outputs": [],
   "source": [
    "raster_path = get_data(r\"D:\\Dropbox\\P.Robeck\\BPLA Dropbox\\03 Planning\\1297-Makkah-Environmental-Sustainability-Strategy\\02-Data\\02-satellite\\Makkah-WV2-ST-2023_I602488\\Makkah-WV2-ST-2023-MOS\\23JAN19075627-S2AM-Makkah-WV2-ST-2023.TIF\")\n",
    "# Window size of 300px with an overlap of 25% among windows for this small tile.\n",
    "predicted_raster = model.predict_tile(raster_path, return_plot = True, patch_size=300,patch_overlap=0.25)"
   ]
  },
  {
   "cell_type": "code",
   "execution_count": null,
   "metadata": {},
   "outputs": [],
   "source": [
    "from rasterio.plot import show_hist\n",
    "from matplotlib import pyplot\n",
    "from rasterio.plot import show\n",
    "fig, (axrgb, axhist) = pyplot.subplots(1, 2, figsize=(14,7))\n",
    "# show(src, ax=axrgb)\n",
    "show_hist(src, bins=50, histtype='stepfilled',\n",
    "          lw=0.0, stacked=False, alpha=0.3, ax=axhist)\n",
    "pyplot.show()"
   ]
  },
  {
   "cell_type": "code",
   "execution_count": null,
   "metadata": {},
   "outputs": [],
   "source": []
  }
 ],
 "metadata": {
  "kernelspec": {
   "display_name": ".venv",
   "language": "python",
   "name": "python3"
  },
  "language_info": {
   "codemirror_mode": {
    "name": "ipython",
    "version": 3
   },
   "file_extension": ".py",
   "mimetype": "text/x-python",
   "name": "python",
   "nbconvert_exporter": "python",
   "pygments_lexer": "ipython3",
   "version": "3.9.9"
  },
  "orig_nbformat": 4
 },
 "nbformat": 4,
 "nbformat_minor": 2
}
