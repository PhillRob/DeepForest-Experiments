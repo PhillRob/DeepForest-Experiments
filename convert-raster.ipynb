{
 "cells": [
  {
   "cell_type": "code",
   "execution_count": 1,
   "metadata": {},
   "outputs": [],
   "source": [
    "# imports\n",
    "import os\n",
    "from os.path import exists\n",
    "os.environ[\"OPENCV_IO_MAX_IMAGE_PIXELS\"] = pow(2,50).__str__()\n",
    "os.environ[\"CV_IO_MAX_IMAGE_PIXELS\"] = pow(2,50).__str__()\n",
    "\n",
    "from  PIL import Image"
   ]
  },
  {
   "cell_type": "code",
   "execution_count": 1,
   "metadata": {},
   "outputs": [
    {
     "ename": "ModuleNotFoundError",
     "evalue": "No module named 'osgeo'",
     "output_type": "error",
     "traceback": [
      "\u001b[1;31m---------------------------------------------------------------------------\u001b[0m",
      "\u001b[1;31mModuleNotFoundError\u001b[0m                       Traceback (most recent call last)",
      "Cell \u001b[1;32mIn [1], line 4\u001b[0m\n\u001b[0;32m      2\u001b[0m \u001b[39mimport\u001b[39;00m \u001b[39mrasterio\u001b[39;00m\n\u001b[0;32m      3\u001b[0m \u001b[39mfrom\u001b[39;00m \u001b[39mmatplotlib\u001b[39;00m \u001b[39mimport\u001b[39;00m pyplot\n\u001b[1;32m----> 4\u001b[0m \u001b[39mfrom\u001b[39;00m \u001b[39mosgeo\u001b[39;00m \u001b[39mimport\u001b[39;00m osr, gdal\n\u001b[0;32m      5\u001b[0m \u001b[39mfrom\u001b[39;00m \u001b[39mPIL\u001b[39;00m \u001b[39mimport\u001b[39;00m Image\n\u001b[0;32m      6\u001b[0m \u001b[39mfrom\u001b[39;00m \u001b[39mPIL\u001b[39;00m\u001b[39m.\u001b[39;00m\u001b[39mTiffTags\u001b[39;00m \u001b[39mimport\u001b[39;00m TAGS\n",
      "\u001b[1;31mModuleNotFoundError\u001b[0m: No module named 'osgeo'"
     ]
    }
   ],
   "source": [
    "\n",
    "# imports\n",
    "import rasterio\n",
    "from matplotlib import pyplot\n",
    "from osgeo import osr, gdal\n",
    "from PIL import Image\n",
    "from PIL.TiffTags import TAGS\n",
    "from os.path import exists\n",
    "import json\n",
    "\n",
    "Image.MAX_IMAGE_PIXELS = None\n"
   ]
  },
  {
   "cell_type": "code",
   "execution_count": null,
   "metadata": {},
   "outputs": [],
   "source": [
    "\n",
    "src_img =r\"\\\\?\\D:\\Dropbox\\P.Robeck\\BPLA Dropbox\\08 GIS-data\\GIS-data-Riyadh\\2022-03-world-view-3\\RCRC-4Bands-Mosaic_FIN_I542628_614813\\RCRC-4Bands-Mosaic_FIN_I542628_614813\\RCRC-4Bands-Mosaic_I542628_FL01-P244705\\RCRC-4Bands-Mosaic_MOS\\22FEB15073634-S2AM-RCRC-4Bands-Mosaic.TIF\"\n",
    "dst_img =r\"\\\\?\\D:\\Dropbox\\P.Robeck\\BPLA Dropbox\\08 GIS-data\\GIS-data-Riyadh\\2022-03-world-view-3\\RCRC-4Bands-Mosaic_FIN_I542628_614813\\RCRC-4Bands-Mosaic_FIN_I542628_614813\\RCRC-4Bands-Mosaic_I542628_FL01-P244705\\RCRC-4Bands-Mosaic_MOS\\22FEB15073634-S2AM-RCRC-4Bands-Mosaic-DN.png\"\n",
    "src_img = r\"\\\\?\\D:\\Dropbox\\P.Robeck\\BPLA Dropbox\\07 Temp\\Drone-data\\Dhibiyah\\2_Aerial\\GeoTiff\\Full\\Dhibiyah_Drone_GeoTiff_005.tif\"\n",
    "dst_img = r\"D:\\Dropbox\\P.Robeck\\BPLA Dropbox\\07 Temp\\Drone-data\\Dhibiyah\\2_Aerial\\GeoTiff\\Full\\Dhibiyah_Drone_GeoTiff_005.png\"\n",
    "\n",
    "# check out input file\n",
    "exists(src_img)\n",
    "\n",
    "# img=Image.open(infn)\n",
    "# img.getbands()\n",
    "\n",
    "# reduce bands in tif     '-b 3',\n",
    "#     '-b 2',\n",
    "#     '-b 1',\n",
    "\n",
    "exists(dst_img)\n",
    "options_list = [\n",
    "    # '-outsize 26950 0',\n",
    "    '-of PNG',\n",
    "    '-tr 0.16 0.16',\n",
    "    '-co worldfile=yes'\n",
    "]\n",
    "options_list = [\n",
    "    # '-outsize 26950 0',\n",
    "    '-of GTiff',\n",
    "\n",
    "    '-projwin 657156 2714162 661156 2710162',\n",
    "    '-projwin_srs EPSG:32638'\n",
    "]\n",
    "\n",
    "options_string = \" \".join(options_list)\n",
    "gdal.Translate(dst_img,\n",
    "               src_img,\n",
    "               options=options_string)\n",
    "\n",
    "# inspect output file\n",
    "with rasterio.open(dst_img, \"r+\") as src:\n",
    "    #src.nodata=0\n",
    "    band_one = src.read(2)\n",
    "\n",
    "\n",
    "pyplot.imshow(band_one, cmap='pink')\n",
    "\n",
    "pyplot.imshow(src.read(1), cmap='pink')\n"
   ]
  },
  {
   "cell_type": "code",
   "execution_count": 2,
   "metadata": {},
   "outputs": [],
   "source": [
    "Image.MAX_IMAGE_PIXELS = 271027563800000000\n",
    "import matplotlib.pyplot as plt\n",
    "\n"
   ]
  },
  {
   "cell_type": "code",
   "execution_count": 3,
   "metadata": {},
   "outputs": [
    {
     "ename": "",
     "evalue": "",
     "output_type": "error",
     "traceback": [
      "\u001b[1;31mCanceled future for execute_request message before replies were done"
     ]
    },
    {
     "ename": "",
     "evalue": "",
     "output_type": "error",
     "traceback": [
      "\u001b[1;31mThe Kernel crashed while executing code in the the current cell or a previous cell. Please review the code in the cell(s) to identify a possible cause of the failure. Click <a href='https://aka.ms/vscodeJupyterKernelCrash'>here</a> for more info. View Jupyter <a href='command:jupyter.viewOutput'>log</a> for further details."
     ]
    }
   ],
   "source": [
    "from deepforest import main\n",
    "# from deepforest import get_data\n"
   ]
  },
  {
   "cell_type": "code",
   "execution_count": null,
   "metadata": {},
   "outputs": [],
   "source": []
  },
  {
   "cell_type": "code",
   "execution_count": null,
   "metadata": {},
   "outputs": [
    {
     "ename": "",
     "evalue": "",
     "output_type": "error",
     "traceback": [
      "\u001b[1;31mThe kernel failed to start as a dll could not be loaded.\n",
      "\u001b[1;31mClick <a href='https://aka.ms/kernelFailuresDllLoad'>here</a> for more info."
     ]
    }
   ],
   "source": []
  },
  {
   "cell_type": "code",
   "execution_count": 1,
   "metadata": {},
   "outputs": [
    {
     "name": "stdout",
     "output_type": "stream",
     "text": [
      "Hello, World!\n"
     ]
    }
   ],
   "source": [
    "print('Hello, World!')\n"
   ]
  },
  {
   "cell_type": "code",
   "execution_count": null,
   "metadata": {},
   "outputs": [],
   "source": [
    "#!/usr/bin/env python\n",
    "# -*- coding: utf-8 -*-"
   ]
  },
  {
   "cell_type": "code",
   "execution_count": null,
   "metadata": {},
   "outputs": [],
   "source": [
    "model = main.deepforest()\n",
    "model.use_release()"
   ]
  },
  {
   "cell_type": "code",
   "execution_count": null,
   "metadata": {},
   "outputs": [],
   "source": [
    "from deepforest import get_data\n",
    "image_path = get_data(\"OSBS_029.png\")\n",
    "image_path\n",
    "exists(image_path)"
   ]
  },
  {
   "cell_type": "code",
   "execution_count": null,
   "metadata": {},
   "outputs": [],
   "source": [
    "# image_path=\"D:\\\\Dropbox\\\\P.Robeck\\\\BPLA Dropbox\\\\03 Planning\\\\DN-Dumping Detection-1087\\\\03_Data\\\\Dronedeploy-exports\\\\aerial\\\\NamarDaharat1_Orthomosaic_TueAug23092916168449\\\\NamarDaharat1_Orthomosaic_export_TueAug23092916168449.png\"\n",
    "# exists(image_path)\n",
    "image_path=\"D:\\\\Dropbox\\\\P.Robeck\\\\BPLA Dropbox\\\\07 Temp\\\\Hankos_Submittals\\\\221001_DQ_ECW2022\\\\Tiff\\\\DQ_2022_3b.png\"\n",
    "print(exists(image_path))\n",
    "image = Image.open(image_path)\n",
    "image.size"
   ]
  },
  {
   "cell_type": "code",
   "execution_count": null,
   "metadata": {},
   "outputs": [],
   "source": [
    "# boxes = model.predict_image(path=image_path, return_plot=False, color=(0, 165, 255),thickness=3)\n",
    "boxes = model.predict_tile(image_path, return_plot = False, patch_size=800, patch_overlap=0.25)\n"
   ]
  },
  {
   "cell_type": "markdown",
   "metadata": {},
   "source": []
  },
  {
   "cell_type": "code",
   "execution_count": null,
   "metadata": {},
   "outputs": [],
   "source": [
    "image_path"
   ]
  },
  {
   "cell_type": "code",
   "execution_count": null,
   "metadata": {},
   "outputs": [],
   "source": [
    "predicted_raster = model.predict_tile(image_path, return_plot = False, patch_size=1200,patch_overlap=0.25)\n"
   ]
  },
  {
   "cell_type": "code",
   "execution_count": null,
   "metadata": {},
   "outputs": [],
   "source": [
    "# plt.imshow(boxes)"
   ]
  },
  {
   "cell_type": "code",
   "execution_count": null,
   "metadata": {},
   "outputs": [],
   "source": [
    "\n",
    "import rasterio\n",
    "r = rasterio.open(image_path)\n",
    "transform = r.transform \n",
    "crs = r.crs\n",
    "print(crs)"
   ]
  },
  {
   "cell_type": "code",
   "execution_count": null,
   "metadata": {},
   "outputs": [],
   "source": [
    "# CRS.from_epsg(32638)"
   ]
  },
  {
   "cell_type": "code",
   "execution_count": null,
   "metadata": {},
   "outputs": [],
   "source": [
    "from deepforest import utilities\n",
    "gdf = utilities.annotations_to_shapefile(boxes, transform=transform, crs=crs)"
   ]
  },
  {
   "cell_type": "code",
   "execution_count": null,
   "metadata": {},
   "outputs": [],
   "source": [
    "gdf\n"
   ]
  },
  {
   "cell_type": "code",
   "execution_count": null,
   "metadata": {},
   "outputs": [],
   "source": []
  },
  {
   "cell_type": "code",
   "execution_count": null,
   "metadata": {},
   "outputs": [],
   "source": []
  },
  {
   "cell_type": "code",
   "execution_count": null,
   "metadata": {},
   "outputs": [],
   "source": [
    "\n"
   ]
  },
  {
   "cell_type": "code",
   "execution_count": null,
   "metadata": {},
   "outputs": [],
   "source": []
  },
  {
   "cell_type": "code",
   "execution_count": null,
   "metadata": {},
   "outputs": [],
   "source": []
  }
 ],
 "metadata": {
  "kernelspec": {
   "display_name": "Python 3.10.8 ('df-conda')",
   "language": "python",
   "name": "python3"
  },
  "language_info": {
   "codemirror_mode": {
    "name": "ipython",
    "version": 3
   },
   "file_extension": ".py",
   "mimetype": "text/x-python",
   "name": "python",
   "nbconvert_exporter": "python",
   "pygments_lexer": "ipython3",
   "version": "3.10.8 | packaged by conda-forge | (main, Nov 24 2022, 14:07:00) [MSC v.1916 64 bit (AMD64)]"
  },
  "orig_nbformat": 4,
  "vscode": {
   "interpreter": {
    "hash": "c5771f6f989cb208a83784edf481c01d67499a7888163d043180c3699ee7a919"
   }
  }
 },
 "nbformat": 4,
 "nbformat_minor": 2
}
