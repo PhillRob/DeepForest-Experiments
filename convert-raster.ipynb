{
 "cells": [
  {
   "cell_type": "code",
   "execution_count": 5,
   "metadata": {},
   "outputs": [],
   "source": [
    "#!/usr/bin/env python\n",
    "# -*- coding: utf-8 -*-\n",
    "# imports\n",
    "import rasterio\n",
    "from matplotlib import pyplot\n",
    "import  osgeo\n",
    "# import gdal \n",
    "from osgeo import osr, gdal\n",
    "from PIL import Image\n",
    "from PIL.TiffTags import TAGS\n",
    "from os.path import exists\n",
    "import json\n",
    "\n",
    "Image.MAX_IMAGE_PIXELS = None"
   ]
  },
  {
   "cell_type": "code",
   "execution_count": 6,
   "metadata": {},
   "outputs": [
    {
     "name": "stdout",
     "output_type": "stream",
     "text": [
      "True\n",
      "True\n"
     ]
    }
   ],
   "source": [
    "\n",
    "src_img =r\"D:\\Dropbox\\P.Robeck\\BPLA Dropbox\\03 Planning\\1297-Makkah-Environmental-Sustainability-Strategy\\02-Data\\02-satellite\\Makkah-WV2-ST-2023_I602488\\Makkah-WV2-ST-2023-MOS\\23JAN19075627-S2AM-Makkah-WV2-ST-2023.TIF\"\n",
    "dst_img= r\"D:\\Dropbox\\P.Robeck\\BPLA Dropbox\\03 Planning\\1297-Makkah-Environmental-Sustainability-Strategy\\02-Data\\02-satellite\\Makkah-WV2-ST-2023_I602488\\Makkah-WV2-ST-2023-MOS\\23JAN19075627-S2AM-Makkah-WV2-ST-2023-tiled.TIF\"\n",
    "# src_img = r\"\\\\?\\D:\\Dropbox\\P.Robeck\\BPLA Dropbox\\07 Temp\\Drone-data\\Dhibiyah\\2_Aerial\\GeoTiff\\Full\\Dhibiyah_Drone_GeoTiff_005.tif\"\n",
    "# dst_img = r\"D:\\Dropbox\\P.Robeck\\BPLA Dropbox\\07 Temp\\Drone-data\\Dhibiyah\\2_Aerial\\GeoTiff\\Full\\Dhibiyah_Drone_GeoTiff_005.png\"\n",
    "\n",
    "# check out input file\n",
    "print(exists(src_img))\n",
    "\n",
    "# img=Image.open(infn)\n",
    "# img.getbands()\n",
    "\n",
    "# reduce bands in tif     '-b 3',\n",
    "#     '-b 2',\n",
    "#     '-b 1',\n",
    "\n",
    "print(exists(dst_img))\n"
   ]
  },
  {
   "cell_type": "code",
   "execution_count": 7,
   "metadata": {},
   "outputs": [
    {
     "data": {
      "text/plain": [
       "'-ot Int16 -of GTiff -co TILED=YES -co BLOCKXSIZE=512 -co BLOCKYSIZE=512 COMPRESS=LZW precision=2'"
      ]
     },
     "execution_count": 7,
     "metadata": {},
     "output_type": "execute_result"
    }
   ],
   "source": [
    "# options_list = [\n",
    "    # '-outsize 26950 0',\n",
    "    # '-of PNG',\n",
    "    # '-tr 0.16 0.16',\n",
    "    # '-co worldfile=yes'\n",
    "# ]\n",
    "options_list = [\n",
    "    '-ot Int16',\n",
    "    '-of GTiff',\n",
    "    '-co TILED=YES',\n",
    "    '-co BLOCKXSIZE=512',\n",
    "    '-co BLOCKYSIZE=512',\n",
    "    'COMPRESS=LZW',\n",
    "    'precision=2'\n",
    "    \n",
    "\n",
    "]\n",
    "options_string = \" \".join(options_list)\n",
    "options_string"
   ]
  },
  {
   "cell_type": "code",
   "execution_count": 8,
   "metadata": {},
   "outputs": [
    {
     "name": "stdout",
     "output_type": "stream",
     "text": [
      "-ot Int16 -of GTiff -co TILED=YES -co BLOCKXSIZE=512 -co BLOCKYSIZE=512 COMPRESS=LZW precision=2\n"
     ]
    }
   ],
   "source": [
    "\n",
    "options_string = \" \".join(options_list)\n",
    "print(options_string)"
   ]
  },
  {
   "cell_type": "code",
   "execution_count": 9,
   "metadata": {},
   "outputs": [
    {
     "data": {
      "text/plain": [
       "<osgeo.gdal.Dataset; proxy of <Swig Object of type 'GDALDatasetShadow *' at 0x000001DEBC1BA480> >"
      ]
     },
     "execution_count": 9,
     "metadata": {},
     "output_type": "execute_result"
    }
   ],
   "source": [
    "gdal.UseExceptions()\n",
    "gdal.Translate(srcDS=src_img,destName=dst_img,\n",
    "               options=options_string)\n"
   ]
  },
  {
   "cell_type": "code",
   "execution_count": null,
   "metadata": {},
   "outputs": [],
   "source": [
    "# gdal_retile.py -ps 35000 35000 -targetDir \"D:\\Dropbox\\P.Robeck\\BPLA Dropbox\\03 Planning\\Wadi Hassia Approach Document\\02_Drawings\\GIS\\GIS-data\\Satellite image Tuwaiq Reserve\\tile\" \"D:\\Dropbox\\P.Robeck\\BPLA Dropbox\\03 Planning\\Wadi Hassia Approach Document\\02_Drawings\\GIS\\GIS-data\\Satellite image Tuwaiq Reserve\\Riyadh_wv3_2020_AUG-1.tif\"\n",
    "\n"
   ]
  }
 ],
 "metadata": {
  "kernelspec": {
   "display_name": ".venv",
   "language": "python",
   "name": "python3"
  },
  "language_info": {
   "codemirror_mode": {
    "name": "ipython",
    "version": 3
   },
   "file_extension": ".py",
   "mimetype": "text/x-python",
   "name": "python",
   "nbconvert_exporter": "python",
   "pygments_lexer": "ipython3",
   "version": "3.9.9"
  },
  "orig_nbformat": 4,
  "vscode": {
   "interpreter": {
    "hash": "f12eafbfb4f344efca36c41f45dc872892b3fee554b97ee162efb4a5a84b036b"
   }
  }
 },
 "nbformat": 4,
 "nbformat_minor": 2
}
