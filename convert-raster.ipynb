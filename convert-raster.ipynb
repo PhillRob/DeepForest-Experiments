{
 "cells": [
  {
   "cell_type": "code",
   "execution_count": null,
   "metadata": {},
   "outputs": [],
   "source": [
    "#!/usr/bin/env python\n",
    "# -*- coding: utf-8 -*-\n",
    "# imports\n",
    "import rasterio\n",
    "from matplotlib import pyplot\n",
    "import  osgeo\n",
    "# import gdal \n",
    "from osgeo import osr, gdal\n",
    "from PIL import Image\n",
    "from PIL.TiffTags import TAGS\n",
    "from os.path import exists\n",
    "import json\n",
    "\n",
    "Image.MAX_IMAGE_PIXELS = None"
   ]
  },
  {
   "cell_type": "code",
   "execution_count": null,
   "metadata": {},
   "outputs": [],
   "source": [
    "\n",
    "src_img =r\"D:\\Dropbox\\P.Robeck\\BPLA Dropbox\\03 Planning\\Wadi Hassia Approach Document\\02_Drawings\\GIS\\GIS-data\\202009-aerial\\202009-aerial.tif\"\n",
    "dst_img= r\"D:\\Dropbox\\P.Robeck\\BPLA Dropbox\\03 Planning\\Wadi Hassia Approach Document\\02_Drawings\\GIS\\GIS-data\\Satellite image Tuwaiq Reserve\\Riyadh_wv3_2020_AUG-1.tif\"\n",
    "# src_img = r\"\\\\?\\D:\\Dropbox\\P.Robeck\\BPLA Dropbox\\07 Temp\\Drone-data\\Dhibiyah\\2_Aerial\\GeoTiff\\Full\\Dhibiyah_Drone_GeoTiff_005.tif\"\n",
    "# dst_img = r\"D:\\Dropbox\\P.Robeck\\BPLA Dropbox\\07 Temp\\Drone-data\\Dhibiyah\\2_Aerial\\GeoTiff\\Full\\Dhibiyah_Drone_GeoTiff_005.png\"\n",
    "\n",
    "# check out input file\n",
    "print(exists(src_img))\n",
    "\n",
    "# img=Image.open(infn)\n",
    "# img.getbands()\n",
    "\n",
    "# reduce bands in tif     '-b 3',\n",
    "#     '-b 2',\n",
    "#     '-b 1',\n",
    "\n",
    "print(exists(dst_img))\n"
   ]
  },
  {
   "cell_type": "code",
   "execution_count": null,
   "metadata": {},
   "outputs": [],
   "source": [
    "# options_list = [\n",
    "    # '-outsize 26950 0',\n",
    "    # '-of PNG',\n",
    "    # '-tr 0.16 0.16',\n",
    "    # '-co worldfile=yes'\n",
    "# ]\n",
    "options_list = [\n",
    "    '-ot Int16',\n",
    "    '-of GTiff',\n",
    "    '-b 1 -b 2 -b 3'\n",
    "]\n",
    "options_string = \" \".join(options_list)\n",
    "options_string"
   ]
  },
  {
   "cell_type": "code",
   "execution_count": null,
   "metadata": {},
   "outputs": [],
   "source": [
    "\n",
    "options_string = \" \".join(options_list)\n",
    "print(options_string)"
   ]
  },
  {
   "cell_type": "code",
   "execution_count": null,
   "metadata": {},
   "outputs": [],
   "source": [
    "gdal.UseExceptions()\n",
    "gdal.Translate(srcDS=src_img,destName=dst_img,\n",
    "               options=options_string)\n"
   ]
  },
  {
   "cell_type": "code",
   "execution_count": null,
   "metadata": {},
   "outputs": [],
   "source": [
    "# gdal_retile.py -ps 35000 35000 -targetDir \"D:\\Dropbox\\P.Robeck\\BPLA Dropbox\\03 Planning\\Wadi Hassia Approach Document\\02_Drawings\\GIS\\GIS-data\\Satellite image Tuwaiq Reserve\\tile\" \"D:\\Dropbox\\P.Robeck\\BPLA Dropbox\\03 Planning\\Wadi Hassia Approach Document\\02_Drawings\\GIS\\GIS-data\\Satellite image Tuwaiq Reserve\\Riyadh_wv3_2020_AUG-1.tif\"\n",
    "\n"
   ]
  },
  {
   "cell_type": "code",
   "execution_count": null,
   "metadata": {},
   "outputs": [],
   "source": [
    "\n",
    "# inspect output file\n",
    "with rasterio.open(dst_img, \"r+\") as src:\n",
    "    #src.nodata=0\n",
    "    band_one = src.read(2)\n",
    "\n",
    "\n",
    "pyplot.imshow(band_one, cmap='pink')\n",
    "\n",
    "pyplot.imshow(src.read(1), cmap='pink')\n"
   ]
  },
  {
   "cell_type": "code",
   "execution_count": null,
   "metadata": {},
   "outputs": [],
   "source": [
    "### NDVI caLC\n",
    "import rasterio\n",
    "import numpy\n",
    "\n",
    "image_file = r\"D:\\Dropbox\\P.Robeck\\BPLA Dropbox\\03 Planning\\1228-Tuwaiq-Reserve-Analysis\\03_Data\\GIS-data\\Tuwaiq-Image\\twaiq_2022.img\"\n",
    "\n",
    "# Load red and NIR bands - note all PlanetScope 4-band images have band order BGRN\n",
    "with rasterio.open(image_file) as src:\n",
    "    band_red = src.read(3)\n",
    "\n",
    "with rasterio.open(image_file) as src:\n",
    "    band_nir = src.read(4)\n"
   ]
  },
  {
   "cell_type": "code",
   "execution_count": null,
   "metadata": {},
   "outputs": [],
   "source": [
    "# Set spatial characteristics of the output object to mirror the input\n",
    "kwargs = src.meta\n",
    "kwargs.update(\n",
    "    dtype=rasterio.float32,\n",
    "    count = 1)\n",
    "\n",
    "# Create the file\n",
    "with rasterio.open('ndvi.tif', 'w', **kwargs) as dst:\n",
    "        dst.write_band(1, ndvi.astype(rasterio.float32))"
   ]
  }
 ],
 "metadata": {
  "kernelspec": {
   "display_name": ".venv",
   "language": "python",
   "name": "python3"
  },
  "language_info": {
   "codemirror_mode": {
    "name": "ipython",
    "version": 3
   },
   "file_extension": ".py",
   "mimetype": "text/x-python",
   "name": "python",
   "nbconvert_exporter": "python",
   "pygments_lexer": "ipython3",
   "version": "3.9.9"
  },
  "orig_nbformat": 4,
  "vscode": {
   "interpreter": {
    "hash": "f12eafbfb4f344efca36c41f45dc872892b3fee554b97ee162efb4a5a84b036b"
   }
  }
 },
 "nbformat": 4,
 "nbformat_minor": 2
}
