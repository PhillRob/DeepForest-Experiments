{
 "cells": [
  {
   "cell_type": "code",
   "execution_count": 2,
   "metadata": {},
   "outputs": [
    {
     "name": "stdout",
     "output_type": "stream",
     "text": [
      "x\n"
     ]
    }
   ],
   "source": [
    "print('x')"
   ]
  },
  {
   "cell_type": "code",
   "execution_count": 5,
   "metadata": {},
   "outputs": [
    {
     "name": "stdout",
     "output_type": "stream",
     "text": [
      "Requirement already satisfied: pycuda in c:\\users\\robeck\\downloads\\df\\.venv\\lib\\site-packages (2022.2.2)\n",
      "Requirement already satisfied: pytools>=2011.2 in c:\\users\\robeck\\downloads\\df\\.venv\\lib\\site-packages (from pycuda) (2022.1.14)\n",
      "Requirement already satisfied: appdirs>=1.4.0 in c:\\users\\robeck\\downloads\\df\\.venv\\lib\\site-packages (from pycuda) (1.4.4)\n",
      "Requirement already satisfied: mako in c:\\users\\robeck\\downloads\\df\\.venv\\lib\\site-packages (from pycuda) (1.2.4)\n",
      "Requirement already satisfied: platformdirs>=2.2.0 in c:\\users\\robeck\\downloads\\df\\.venv\\lib\\site-packages (from pytools>=2011.2->pycuda) (2.6.2)\n",
      "Requirement already satisfied: typing-extensions>=4.0 in c:\\users\\robeck\\downloads\\df\\.venv\\lib\\site-packages (from pytools>=2011.2->pycuda) (4.4.0)\n",
      "Requirement already satisfied: MarkupSafe>=0.9.2 in c:\\users\\robeck\\downloads\\df\\.venv\\lib\\site-packages (from mako->pycuda) (2.1.2)\n"
     ]
    },
    {
     "data": {
      "text/plain": [
       "'NVIDIA GeForce GTX 1080 Ti'"
      ]
     },
     "execution_count": 5,
     "metadata": {},
     "output_type": "execute_result"
    }
   ],
   "source": [
    "!pip install pycuda\n",
    "import torch\n",
    "import pycuda.driver as cuda\n",
    "cuda.init()\n",
    "## Get Id of default device\n",
    "torch.cuda.current_device()\n",
    "# 0\n",
    "cuda.Device(0).name() # '0' is the id of your GPU"
   ]
  },
  {
   "cell_type": "code",
   "execution_count": null,
   "metadata": {},
   "outputs": [],
   "source": []
  }
 ],
 "metadata": {
  "kernelspec": {
   "display_name": ".venv",
   "language": "python",
   "name": "python3"
  },
  "language_info": {
   "codemirror_mode": {
    "name": "ipython",
    "version": 3
   },
   "file_extension": ".py",
   "mimetype": "text/x-python",
   "name": "python",
   "nbconvert_exporter": "python",
   "pygments_lexer": "ipython3",
   "version": "3.9.9"
  },
  "orig_nbformat": 4,
  "vscode": {
   "interpreter": {
    "hash": "f12eafbfb4f344efca36c41f45dc872892b3fee554b97ee162efb4a5a84b036b"
   }
  }
 },
 "nbformat": 4,
 "nbformat_minor": 2
}
