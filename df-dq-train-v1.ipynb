{
 "cells": [
  {
   "cell_type": "code",
   "execution_count": 2,
   "metadata": {},
   "outputs": [],
   "source": [
    "# imports\n",
    "import os, rasterio\n",
    "import time\n",
    "from deepforest import main, utilities, get_data, preprocess \n",
    "from os.path import exists\n",
    "from  PIL import Image, ImagePath\n",
    "Image.MAX_IMAGE_PIXELS = None\n",
    "import matplotlib.pyplot as plt\n",
    "import pandas as pd"
   ]
  },
  {
   "cell_type": "code",
   "execution_count": 3,
   "metadata": {},
   "outputs": [
    {
     "name": "stdout",
     "output_type": "stream",
     "text": [
      "True\n",
      "('R', 'G', 'B')\n",
      "(15652, 11592)\n",
      "EPSG:32638\n"
     ]
    }
   ],
   "source": [
    "# get and check Image\n",
    "image_path=r\"D:\\Dropbox\\P.Robeck\\BPLA Dropbox\\07 Temp\\Hankos_Submittals\\221001_DQ_ECW2022\\PNG\\DQ_2022_3b.png\"\n",
    "# \"D:\\Dropbox\\P.Robeck\\BPLA Dropbox\\07 Temp\\Hankos_Submittals\\221001_DQ_ECW2022\\PNG\\DQ_2022_3b.png\"\n",
    "print(exists(image_path))\n",
    "\n",
    "# annotations = (\"D:\\\\Dropbox\\\\P.Robeck\\\\BPLA Dropbox\\\\07 Temp\\\\Hankos_Submittals\\\\221001_DQ_ECW2022\\\\annotation\\\\deep-forest-training.csv\")\n",
    "# print(exists(annotations))\n",
    "\n",
    "exImg=Image.open(image_path)\n",
    "print(exImg.getbands())\n",
    "print(exImg.size)\n",
    "src = rasterio.open(image_path)\n",
    "\n",
    "transform = src.transform \n",
    "crs = src.crs\n",
    "print(crs)"
   ]
  },
  {
   "cell_type": "code",
   "execution_count": null,
   "metadata": {},
   "outputs": [],
   "source": []
  },
  {
   "cell_type": "code",
   "execution_count": 4,
   "metadata": {},
   "outputs": [
    {
     "name": "stderr",
     "output_type": "stream",
     "text": [
      "Can't load requested DLL: C:\\Program Files\\GDAL\\gdalplugins\\gdal_BAG.dll\n",
      "127: The specified procedure could not be found.\n",
      "\n",
      "Can't load requested DLL: C:\\Program Files\\GDAL\\gdalplugins\\gdal_BAG.dll\n",
      "127: The specified procedure could not be found.\n",
      "\n",
      "Can't load requested DLL: C:\\Program Files\\GDAL\\gdalplugins\\gdal_FITS.dll\n",
      "127: The specified procedure could not be found.\n",
      "\n",
      "Can't load requested DLL: C:\\Program Files\\GDAL\\gdalplugins\\gdal_FITS.dll\n",
      "127: The specified procedure could not be found.\n",
      "\n",
      "Can't load requested DLL: C:\\Program Files\\GDAL\\gdalplugins\\gdal_GMT.dll\n",
      "127: The specified procedure could not be found.\n",
      "\n",
      "Can't load requested DLL: C:\\Program Files\\GDAL\\gdalplugins\\gdal_GMT.dll\n",
      "127: The specified procedure could not be found.\n",
      "\n",
      "Can't load requested DLL: C:\\Program Files\\GDAL\\gdalplugins\\gdal_HDF4.dll\n",
      "127: The specified procedure could not be found.\n",
      "\n",
      "Can't load requested DLL: C:\\Program Files\\GDAL\\gdalplugins\\gdal_HDF4.dll\n",
      "127: The specified procedure could not be found.\n",
      "\n",
      "Can't load requested DLL: C:\\Program Files\\GDAL\\gdalplugins\\gdal_HDF4Image.dll\n",
      "127: The specified procedure could not be found.\n",
      "\n",
      "Can't load requested DLL: C:\\Program Files\\GDAL\\gdalplugins\\gdal_HDF4Image.dll\n",
      "127: The specified procedure could not be found.\n",
      "\n",
      "Can't load requested DLL: C:\\Program Files\\GDAL\\gdalplugins\\gdal_HDF5.dll\n",
      "127: The specified procedure could not be found.\n",
      "\n",
      "Can't load requested DLL: C:\\Program Files\\GDAL\\gdalplugins\\gdal_HDF5.dll\n",
      "127: The specified procedure could not be found.\n",
      "\n",
      "Can't load requested DLL: C:\\Program Files\\GDAL\\gdalplugins\\gdal_HDF5Image.dll\n",
      "127: The specified procedure could not be found.\n",
      "\n",
      "Can't load requested DLL: C:\\Program Files\\GDAL\\gdalplugins\\gdal_HDF5Image.dll\n",
      "127: The specified procedure could not be found.\n",
      "\n",
      "Can't load requested DLL: C:\\Program Files\\GDAL\\gdalplugins\\gdal_KEA.dll\n",
      "127: The specified procedure could not be found.\n",
      "\n",
      "Can't load requested DLL: C:\\Program Files\\GDAL\\gdalplugins\\gdal_KEA.dll\n",
      "127: The specified procedure could not be found.\n",
      "\n",
      "Can't load requested DLL: C:\\Program Files\\GDAL\\gdalplugins\\gdal_netCDF.dll\n",
      "127: The specified procedure could not be found.\n",
      "\n",
      "Can't load requested DLL: C:\\Program Files\\GDAL\\gdalplugins\\gdal_netCDF.dll\n",
      "127: The specified procedure could not be found.\n",
      "\n",
      "Can't load requested DLL: C:\\Program Files\\GDAL\\gdalplugins\\gdal_BAG.dll\n",
      "127: The specified procedure could not be found.\n",
      "\n",
      "Can't load requested DLL: C:\\Program Files\\GDAL\\gdalplugins\\gdal_BAG.dll\n",
      "127: The specified procedure could not be found.\n",
      "\n",
      "Can't load requested DLL: C:\\Program Files\\GDAL\\gdalplugins\\gdal_FITS.dll\n",
      "127: The specified procedure could not be found.\n",
      "\n",
      "Can't load requested DLL: C:\\Program Files\\GDAL\\gdalplugins\\gdal_FITS.dll\n",
      "127: The specified procedure could not be found.\n",
      "\n",
      "Can't load requested DLL: C:\\Program Files\\GDAL\\gdalplugins\\gdal_GMT.dll\n",
      "127: The specified procedure could not be found.\n",
      "\n",
      "Can't load requested DLL: C:\\Program Files\\GDAL\\gdalplugins\\gdal_GMT.dll\n",
      "127: The specified procedure could not be found.\n",
      "\n",
      "Can't load requested DLL: C:\\Program Files\\GDAL\\gdalplugins\\gdal_HDF4.dll\n",
      "127: The specified procedure could not be found.\n",
      "\n",
      "Can't load requested DLL: C:\\Program Files\\GDAL\\gdalplugins\\gdal_HDF4.dll\n",
      "127: The specified procedure could not be found.\n",
      "\n",
      "Can't load requested DLL: C:\\Program Files\\GDAL\\gdalplugins\\gdal_HDF4Image.dll\n",
      "127: The specified procedure could not be found.\n",
      "\n",
      "Can't load requested DLL: C:\\Program Files\\GDAL\\gdalplugins\\gdal_HDF4Image.dll\n",
      "127: The specified procedure could not be found.\n",
      "\n",
      "Can't load requested DLL: C:\\Program Files\\GDAL\\gdalplugins\\gdal_HDF5.dll\n",
      "127: The specified procedure could not be found.\n",
      "\n",
      "Can't load requested DLL: C:\\Program Files\\GDAL\\gdalplugins\\gdal_HDF5.dll\n",
      "127: The specified procedure could not be found.\n",
      "\n",
      "Can't load requested DLL: C:\\Program Files\\GDAL\\gdalplugins\\gdal_HDF5Image.dll\n",
      "127: The specified procedure could not be found.\n",
      "\n",
      "Can't load requested DLL: C:\\Program Files\\GDAL\\gdalplugins\\gdal_HDF5Image.dll\n",
      "127: The specified procedure could not be found.\n",
      "\n",
      "Can't load requested DLL: C:\\Program Files\\GDAL\\gdalplugins\\gdal_KEA.dll\n",
      "127: The specified procedure could not be found.\n",
      "\n",
      "Can't load requested DLL: C:\\Program Files\\GDAL\\gdalplugins\\gdal_KEA.dll\n",
      "127: The specified procedure could not be found.\n",
      "\n",
      "Can't load requested DLL: C:\\Program Files\\GDAL\\gdalplugins\\gdal_netCDF.dll\n",
      "127: The specified procedure could not be found.\n",
      "\n",
      "Can't load requested DLL: C:\\Program Files\\GDAL\\gdalplugins\\gdal_netCDF.dll\n",
      "127: The specified procedure could not be found.\n",
      "\n"
     ]
    }
   ],
   "source": [
    "# get training bonding box and convert to the right format\n",
    "ano_shp=r\"D:\\Dropbox\\P.Robeck\\BPLA Dropbox\\03 Planning\\DQ-Vegetation-Analysis-1180\\03_Data\\model-training\\20230121-Five-classes-data-v1\\1class-treesdata-start-December2022.shp\"\n",
    "annotations=utilities.shapefile_to_annotations(ano_shp, image_path,  savedir='.')"
   ]
  },
  {
   "cell_type": "code",
   "execution_count": 5,
   "metadata": {},
   "outputs": [],
   "source": [
    "annotations.to_csv(r\"D:\\Dropbox\\P.Robeck\\BPLA Dropbox\\03 Planning\\DQ-Vegetation-Analysis-1180\\03_Data\\model-training\\20230121-Five-classes-data-v1\\1class-treesdata-start-December2022.csv\")"
   ]
  },
  {
   "cell_type": "code",
   "execution_count": 6,
   "metadata": {},
   "outputs": [],
   "source": [
    "ano_csv=r\"D:\\Dropbox\\P.Robeck\\BPLA Dropbox\\03 Planning\\DQ-Vegetation-Analysis-1180\\03_Data\\model-training\\20230121-Five-classes-data-v1\\1class-treesdata-start-December2022.csv\""
   ]
  },
  {
   "cell_type": "code",
   "execution_count": 7,
   "metadata": {},
   "outputs": [
    {
     "name": "stderr",
     "output_type": "stream",
     "text": [
      "c:\\Users\\Robeck\\Downloads\\df\\.venv\\lib\\site-packages\\deepforest\\preprocess.py:92: SettingWithCopyWarning: \n",
      "A value is trying to be set on a copy of a slice from a DataFrame.\n",
      "Try using .loc[row_indexer,col_indexer] = value instead\n",
      "\n",
      "See the caveats in the documentation: https://pandas.pydata.org/pandas-docs/stable/user_guide/indexing.html#returning-a-view-versus-a-copy\n",
      "  selected_annotations.image_path = \"{}_{}.png\".format(image_basename, index)\n",
      "c:\\Users\\Robeck\\Downloads\\df\\.venv\\lib\\site-packages\\deepforest\\preprocess.py:110: SettingWithCopyWarning: \n",
      "A value is trying to be set on a copy of a slice from a DataFrame.\n",
      "Try using .loc[row_indexer,col_indexer] = value instead\n",
      "\n",
      "See the caveats in the documentation: https://pandas.pydata.org/pandas-docs/stable/user_guide/indexing.html#returning-a-view-versus-a-copy\n",
      "  selected_annotations.xmax = (selected_annotations.xmin - window_xmin) + (\n",
      "c:\\Users\\Robeck\\Downloads\\df\\.venv\\lib\\site-packages\\deepforest\\preprocess.py:112: SettingWithCopyWarning: \n",
      "A value is trying to be set on a copy of a slice from a DataFrame.\n",
      "Try using .loc[row_indexer,col_indexer] = value instead\n",
      "\n",
      "See the caveats in the documentation: https://pandas.pydata.org/pandas-docs/stable/user_guide/indexing.html#returning-a-view-versus-a-copy\n",
      "  selected_annotations.xmin = (selected_annotations.xmin - window_xmin)\n",
      "c:\\Users\\Robeck\\Downloads\\df\\.venv\\lib\\site-packages\\deepforest\\preprocess.py:113: SettingWithCopyWarning: \n",
      "A value is trying to be set on a copy of a slice from a DataFrame.\n",
      "Try using .loc[row_indexer,col_indexer] = value instead\n",
      "\n",
      "See the caveats in the documentation: https://pandas.pydata.org/pandas-docs/stable/user_guide/indexing.html#returning-a-view-versus-a-copy\n",
      "  selected_annotations.ymax = (selected_annotations.ymin - window_ymin) + (\n",
      "c:\\Users\\Robeck\\Downloads\\df\\.venv\\lib\\site-packages\\deepforest\\preprocess.py:115: SettingWithCopyWarning: \n",
      "A value is trying to be set on a copy of a slice from a DataFrame.\n",
      "Try using .loc[row_indexer,col_indexer] = value instead\n",
      "\n",
      "See the caveats in the documentation: https://pandas.pydata.org/pandas-docs/stable/user_guide/indexing.html#returning-a-view-versus-a-copy\n",
      "  selected_annotations.ymin = (selected_annotations.ymin - window_ymin)\n"
     ]
    }
   ],
   "source": [
    "#Write csv to file and crop\n",
    "tmpdir = (r\"D:\\Dropbox\\P.Robeck\\BPLA Dropbox\\07 Temp\\Hankos_Submittals\\221001_DQ_ECW2022\\crop\")\n",
    "# annotations.to_csv(\"{}/example.csv\".format(tmpdir), index=False)\n",
    "annotations_file = preprocess.split_raster(path_to_raster=image_path,\n",
    "                                           annotations_file=ano_csv,\n",
    "                                           base_dir=tmpdir,\n",
    "                                           patch_size=500,\n",
    "                                           patch_overlap=0.25)\n",
    "\n",
    "# Returns a 6 column pandas array"
   ]
  },
  {
   "cell_type": "code",
   "execution_count": 9,
   "metadata": {},
   "outputs": [],
   "source": [
    "del(annotations_file['Unnamed: 0'])\n",
    "assert annotations_file.shape[1] == 6"
   ]
  },
  {
   "cell_type": "code",
   "execution_count": 10,
   "metadata": {},
   "outputs": [
    {
     "data": {
      "text/html": [
       "<div>\n",
       "<style scoped>\n",
       "    .dataframe tbody tr th:only-of-type {\n",
       "        vertical-align: middle;\n",
       "    }\n",
       "\n",
       "    .dataframe tbody tr th {\n",
       "        vertical-align: top;\n",
       "    }\n",
       "\n",
       "    .dataframe thead th {\n",
       "        text-align: right;\n",
       "    }\n",
       "</style>\n",
       "<table border=\"1\" class=\"dataframe\">\n",
       "  <thead>\n",
       "    <tr style=\"text-align: right;\">\n",
       "      <th></th>\n",
       "      <th>image_path</th>\n",
       "      <th>xmin</th>\n",
       "      <th>ymin</th>\n",
       "      <th>xmax</th>\n",
       "      <th>ymax</th>\n",
       "      <th>label</th>\n",
       "    </tr>\n",
       "  </thead>\n",
       "  <tbody>\n",
       "    <tr>\n",
       "      <th>2453</th>\n",
       "      <td>DQ_2022_3b_322.png</td>\n",
       "      <td>473</td>\n",
       "      <td>450</td>\n",
       "      <td>496</td>\n",
       "      <td>473</td>\n",
       "      <td>Tree</td>\n",
       "    </tr>\n",
       "    <tr>\n",
       "      <th>2148</th>\n",
       "      <td>DQ_2022_3b_323.png</td>\n",
       "      <td>414</td>\n",
       "      <td>403</td>\n",
       "      <td>426</td>\n",
       "      <td>415</td>\n",
       "      <td>Tree</td>\n",
       "    </tr>\n",
       "    <tr>\n",
       "      <th>2161</th>\n",
       "      <td>DQ_2022_3b_323.png</td>\n",
       "      <td>459</td>\n",
       "      <td>457</td>\n",
       "      <td>500</td>\n",
       "      <td>499</td>\n",
       "      <td>Tree</td>\n",
       "    </tr>\n",
       "    <tr>\n",
       "      <th>2244</th>\n",
       "      <td>DQ_2022_3b_323.png</td>\n",
       "      <td>408</td>\n",
       "      <td>368</td>\n",
       "      <td>413</td>\n",
       "      <td>373</td>\n",
       "      <td>Tree</td>\n",
       "    </tr>\n",
       "    <tr>\n",
       "      <th>2245</th>\n",
       "      <td>DQ_2022_3b_323.png</td>\n",
       "      <td>420</td>\n",
       "      <td>355</td>\n",
       "      <td>423</td>\n",
       "      <td>358</td>\n",
       "      <td>Tree</td>\n",
       "    </tr>\n",
       "    <tr>\n",
       "      <th>...</th>\n",
       "      <td>...</td>\n",
       "      <td>...</td>\n",
       "      <td>...</td>\n",
       "      <td>...</td>\n",
       "      <td>...</td>\n",
       "      <td>...</td>\n",
       "    </tr>\n",
       "    <tr>\n",
       "      <th>1274</th>\n",
       "      <td>DQ_2022_3b_919.png</td>\n",
       "      <td>5</td>\n",
       "      <td>253</td>\n",
       "      <td>10</td>\n",
       "      <td>259</td>\n",
       "      <td>Tree</td>\n",
       "    </tr>\n",
       "    <tr>\n",
       "      <th>1275</th>\n",
       "      <td>DQ_2022_3b_919.png</td>\n",
       "      <td>32</td>\n",
       "      <td>103</td>\n",
       "      <td>43</td>\n",
       "      <td>114</td>\n",
       "      <td>Tree</td>\n",
       "    </tr>\n",
       "    <tr>\n",
       "      <th>1299</th>\n",
       "      <td>DQ_2022_3b_919.png</td>\n",
       "      <td>42</td>\n",
       "      <td>138</td>\n",
       "      <td>53</td>\n",
       "      <td>149</td>\n",
       "      <td>Tree</td>\n",
       "    </tr>\n",
       "    <tr>\n",
       "      <th>1300</th>\n",
       "      <td>DQ_2022_3b_919.png</td>\n",
       "      <td>53</td>\n",
       "      <td>128</td>\n",
       "      <td>55</td>\n",
       "      <td>130</td>\n",
       "      <td>Tree</td>\n",
       "    </tr>\n",
       "    <tr>\n",
       "      <th>1301</th>\n",
       "      <td>DQ_2022_3b_919.png</td>\n",
       "      <td>29</td>\n",
       "      <td>119</td>\n",
       "      <td>43</td>\n",
       "      <td>134</td>\n",
       "      <td>Tree</td>\n",
       "    </tr>\n",
       "  </tbody>\n",
       "</table>\n",
       "<p>5267 rows × 6 columns</p>\n",
       "</div>"
      ],
      "text/plain": [
       "              image_path  xmin  ymin  xmax  ymax label\n",
       "2453  DQ_2022_3b_322.png   473   450   496   473  Tree\n",
       "2148  DQ_2022_3b_323.png   414   403   426   415  Tree\n",
       "2161  DQ_2022_3b_323.png   459   457   500   499  Tree\n",
       "2244  DQ_2022_3b_323.png   408   368   413   373  Tree\n",
       "2245  DQ_2022_3b_323.png   420   355   423   358  Tree\n",
       "...                  ...   ...   ...   ...   ...   ...\n",
       "1274  DQ_2022_3b_919.png     5   253    10   259  Tree\n",
       "1275  DQ_2022_3b_919.png    32   103    43   114  Tree\n",
       "1299  DQ_2022_3b_919.png    42   138    53   149  Tree\n",
       "1300  DQ_2022_3b_919.png    53   128    55   130  Tree\n",
       "1301  DQ_2022_3b_919.png    29   119    43   134  Tree\n",
       "\n",
       "[5267 rows x 6 columns]"
      ]
     },
     "execution_count": 10,
     "metadata": {},
     "output_type": "execute_result"
    }
   ],
   "source": [
    "annotations_file"
   ]
  },
  {
   "cell_type": "code",
   "execution_count": 16,
   "metadata": {},
   "outputs": [
    {
     "data": {
      "text/plain": [
       "True"
      ]
     },
     "execution_count": 16,
     "metadata": {},
     "output_type": "execute_result"
    }
   ],
   "source": [
    "ano_split=get_data(r\"D:\\Dropbox\\P.Robeck\\BPLA Dropbox\\07 Temp\\Hankos_Submittals\\221001_DQ_ECW2022\\crop\\DQ_2022_3b.csv\")\n",
    "exists(ano_split)"
   ]
  },
  {
   "cell_type": "code",
   "execution_count": 15,
   "metadata": {},
   "outputs": [
    {
     "ename": "ValueError",
     "evalue": "DataFrame constructor not properly called!",
     "output_type": "error",
     "traceback": [
      "\u001b[1;31m---------------------------------------------------------------------------\u001b[0m",
      "\u001b[1;31mValueError\u001b[0m                                Traceback (most recent call last)",
      "Cell \u001b[1;32mIn[15], line 1\u001b[0m\n\u001b[1;32m----> 1\u001b[0m pd\u001b[39m.\u001b[39;49mDataFrame(\u001b[39m\"\u001b[39;49m\u001b[39mD:\u001b[39;49m\u001b[39m\\\u001b[39;49m\u001b[39mDropbox\u001b[39;49m\u001b[39m\\\u001b[39;49m\u001b[39mP.Robeck\u001b[39;49m\u001b[39m\\\u001b[39;49m\u001b[39mBPLA Dropbox\u001b[39;49m\u001b[39m\\07\u001b[39;49;00m\u001b[39m Temp\u001b[39;49m\u001b[39m\\\u001b[39;49m\u001b[39mHankos_Submittals\u001b[39;49m\u001b[39m\\221\u001b[39;49;00m\u001b[39m001_DQ_ECW2022\u001b[39;49m\u001b[39m\\\u001b[39;49m\u001b[39mcrop\u001b[39;49m\u001b[39m\\\u001b[39;49m\u001b[39mDQ_2022_3b.csv\u001b[39;49m\u001b[39m\"\u001b[39;49m)\n\u001b[0;32m      2\u001b[0m \u001b[39m# os.path.dirname(ano_split)\u001b[39;00m\n",
      "File \u001b[1;32mc:\\Users\\Robeck\\Downloads\\df\\.venv\\lib\\site-packages\\pandas\\core\\frame.py:781\u001b[0m, in \u001b[0;36mDataFrame.__init__\u001b[1;34m(self, data, index, columns, dtype, copy)\u001b[0m\n\u001b[0;32m    778\u001b[0m \u001b[39m# For data is scalar\u001b[39;00m\n\u001b[0;32m    779\u001b[0m \u001b[39melse\u001b[39;00m:\n\u001b[0;32m    780\u001b[0m     \u001b[39mif\u001b[39;00m index \u001b[39mis\u001b[39;00m \u001b[39mNone\u001b[39;00m \u001b[39mor\u001b[39;00m columns \u001b[39mis\u001b[39;00m \u001b[39mNone\u001b[39;00m:\n\u001b[1;32m--> 781\u001b[0m         \u001b[39mraise\u001b[39;00m \u001b[39mValueError\u001b[39;00m(\u001b[39m\"\u001b[39m\u001b[39mDataFrame constructor not properly called!\u001b[39m\u001b[39m\"\u001b[39m)\n\u001b[0;32m    783\u001b[0m     index \u001b[39m=\u001b[39m ensure_index(index)\n\u001b[0;32m    784\u001b[0m     columns \u001b[39m=\u001b[39m ensure_index(columns)\n",
      "\u001b[1;31mValueError\u001b[0m: DataFrame constructor not properly called!"
     ]
    }
   ],
   "source": [
    "# pd.DataFrame(\"D:\\Dropbox\\P.Robeck\\BPLA Dropbox\\07 Temp\\Hankos_Submittals\\221001_DQ_ECW2022\\crop\\DQ_2022_3b.csv\")\n",
    "# os.path.dirname(ano_split)"
   ]
  },
  {
   "cell_type": "code",
   "execution_count": 17,
   "metadata": {},
   "outputs": [
    {
     "name": "stdout",
     "output_type": "stream",
     "text": [
      "Reading config file: c:\\Users\\Robeck\\Downloads\\df\\.venv\\lib\\site-packages\\deepforest\\data\\deepforest_config.yml\n"
     ]
    },
    {
     "name": "stderr",
     "output_type": "stream",
     "text": [
      "c:\\Users\\Robeck\\Downloads\\df\\.venv\\lib\\site-packages\\pytorch_lightning\\trainer\\connectors\\accelerator_connector.py:467: LightningDeprecationWarning: Setting `Trainer(gpus='-1')` is deprecated in v1.7 and will be removed in v2.0. Please use `Trainer(accelerator='gpu', devices='-1')` instead.\n",
      "  rank_zero_deprecation(\n",
      "GPU available: True (cuda), used: True\n"
     ]
    },
    {
     "name": "stdout",
     "output_type": "stream",
     "text": [
      "Model from DeepForest release https://github.com/weecology/DeepForest/releases/tag/1.0.0 was already downloaded. Loading model from file.\n",
      "Loading pre-built model: https://github.com/weecology/DeepForest/releases/tag/1.0.0\n"
     ]
    },
    {
     "name": "stderr",
     "output_type": "stream",
     "text": [
      "TPU available: False, using: 0 TPU cores\n",
      "IPU available: False, using: 0 IPUs\n",
      "HPU available: False, using: 0 HPUs\n"
     ]
    }
   ],
   "source": [
    "model = main.deepforest()\n",
    "model.use_release()\n",
    "\n",
    "# Example run with short training\n",
    "model.config[\"train\"]['epochs'] = 5\n",
    "model.config['gpus'] = '-1' #move to GPU and use all the GPU resources\n",
    "# model.config['cpu'] = 'accelerator'\n",
    "model.config[\"save-snapshot\"] = False\n",
    "model.config[\"train\"][\"csv_file\"] = ano_split\n",
    "model.config[\"train\"][\"root_dir\"] = os.path.dirname(ano_split)\n",
    "model.config['num_worker']=16\n",
    "# model.config['max_epochs']=10\n",
    "model.create_trainer()\n",
    "\n"
   ]
  },
  {
   "cell_type": "code",
   "execution_count": 19,
   "metadata": {},
   "outputs": [
    {
     "name": "stderr",
     "output_type": "stream",
     "text": [
      "LOCAL_RANK: 0 - CUDA_VISIBLE_DEVICES: [0]\n",
      "\n",
      "  | Name  | Type      | Params\n",
      "------------------------------------\n",
      "0 | model | RetinaNet | 32.1 M\n",
      "------------------------------------\n",
      "31.9 M    Trainable params\n",
      "222 K     Non-trainable params\n",
      "32.1 M    Total params\n",
      "128.592   Total estimated model params size (MB)\n"
     ]
    },
    {
     "name": "stdout",
     "output_type": "stream",
     "text": [
      "                                   "
     ]
    },
    {
     "name": "stderr",
     "output_type": "stream",
     "text": [
      "c:\\Users\\Robeck\\Downloads\\df\\.venv\\lib\\site-packages\\pytorch_lightning\\trainer\\connectors\\data_connector.py:366: UserWarning: One of given dataloaders is None and it will be skipped.\n",
      "  rank_zero_warn(\"One of given dataloaders is None and it will be skipped.\")\n",
      "c:\\Users\\Robeck\\Downloads\\df\\.venv\\lib\\site-packages\\pytorch_lightning\\trainer\\connectors\\data_connector.py:224: PossibleUserWarning: The dataloader, train_dataloader, does not have many workers which may be a bottleneck. Consider increasing the value of the `num_workers` argument` (try 16 which is the number of cpus on this machine) in the `DataLoader` init to improve performance.\n",
      "  rank_zero_warn(\n"
     ]
    },
    {
     "name": "stdout",
     "output_type": "stream",
     "text": [
      "Epoch 2:   4%|▎         | 9/249 [00:05<02:33,  1.57it/s, loss=2.06]  "
     ]
    }
   ],
   "source": [
    "start_time = time.time()\n",
    "model.trainer.fit(model)\n",
    "print(f\"--- Training on CPU: {(time.time() - start_time):.2f} seconds ---\")"
   ]
  },
  {
   "cell_type": "code",
   "execution_count": null,
   "metadata": {},
   "outputs": [],
   "source": []
  },
  {
   "cell_type": "code",
   "execution_count": null,
   "metadata": {},
   "outputs": [],
   "source": [
    "# boxes = model.predict_image(path=image_path, return_plot = True)\n",
    "predicted_raster = model.predict_tile(image_path, return_plot = False, patch_size=500,patch_overlap=0.25)"
   ]
  },
  {
   "cell_type": "code",
   "execution_count": null,
   "metadata": {},
   "outputs": [],
   "source": [
    "pd.DataFrame(predicted_raster)"
   ]
  },
  {
   "cell_type": "code",
   "execution_count": null,
   "metadata": {},
   "outputs": [],
   "source": [
    "r = rasterio.open(image_path)\n",
    "transform = r.transform \n",
    "crs = r.crs\n",
    "print(crs)\n",
    "\n",
    "gdf = utilities.annotations_to_shapefile(predicted_raster, transform=transform, crs=crs)"
   ]
  },
  {
   "cell_type": "code",
   "execution_count": null,
   "metadata": {},
   "outputs": [],
   "source": [
    "gdf.to_file('trained-500-1e-230.shp')"
   ]
  },
  {
   "cell_type": "code",
   "execution_count": null,
   "metadata": {},
   "outputs": [],
   "source": [
    "results = model.evaluate(ano_split, os.path.dirname(ano_split), iou_threshold = 0.45)"
   ]
  },
  {
   "cell_type": "code",
   "execution_count": null,
   "metadata": {},
   "outputs": [],
   "source": []
  },
  {
   "cell_type": "code",
   "execution_count": null,
   "metadata": {},
   "outputs": [],
   "source": [
    "print(results[\"box_recall\"])\n",
    "print(results[\"box_precision\"])"
   ]
  },
  {
   "cell_type": "code",
   "execution_count": null,
   "metadata": {},
   "outputs": [],
   "source": [
    "results[\"results\"].head()"
   ]
  },
  {
   "cell_type": "code",
   "execution_count": null,
   "metadata": {},
   "outputs": [],
   "source": [
    "# Importing Image class from PIL module\n",
    " \n",
    "# Opens a image in RGB mode\n",
    "RUH_img = Image.open(r\"\\\\?\\D:\\Dropbox\\P.Robeck\\BPLA Dropbox\\08 GIS-data\\GIS-data-Riyadh\\2022-03-world-view-3\\RCRC-4Bands-Mosaic_FIN_I542628_614813\\RCRC-4Bands-Mosaic_FIN_I542628_614813\\RCRC-4Bands-Mosaic_I542628_FL01-P244705\\RCRC-4Bands-Mosaic_MOS\\22FEB15073634-S2AM-RCRC-4Bands-Mosaic.TIF\")\n",
    "DQ_img = Image.open(r\"D:\\\\Dropbox\\\\P.Robeck\\\\BPLA Dropbox\\\\07 Temp\\\\Hankos_Submittals\\\\221001_DQ_ECW2022\\\\PNG\\\\DQ_2022_3b.png\")"
   ]
  },
  {
   "cell_type": "code",
   "execution_count": null,
   "metadata": {},
   "outputs": [],
   "source": [
    "DQ_img.getbbox()"
   ]
  },
  {
   "cell_type": "code",
   "execution_count": null,
   "metadata": {},
   "outputs": [],
   "source": [
    "print(DQ_img.format, DQ_img.size, DQ_img.mode,DQ_img.getbbox)"
   ]
  },
  {
   "cell_type": "code",
   "execution_count": null,
   "metadata": {},
   "outputs": [],
   "source": [
    "# test GPU\n",
    "from numba import jit, cuda\n",
    "import numpy as np\n",
    "# to measure exec time\n",
    "from timeit import default_timer as timer   \n",
    "  \n",
    "# normal function to run on cpu\n",
    "def func(a):                                \n",
    "    for i in range(10000000):\n",
    "        a[i]+= 1      \n",
    "  \n",
    "# function optimized to run on gpu \n",
    "@jit(target_backend='cuda')                         \n",
    "def func2(a):\n",
    "    for i in range(10000000):\n",
    "        a[i]+= 1\n",
    "if __name__==\"__main__\":\n",
    "    n = 10000000                            \n",
    "    a = np.ones(n, dtype = np.float64)\n",
    "      \n",
    "    start = timer()\n",
    "    func(a)\n",
    "    print(\"without GPU:\", timer()-start)    \n",
    "      \n",
    "    start = timer()\n",
    "    func2(a)\n",
    "    print(\"with GPU:\", timer()-start)"
   ]
  }
 ],
 "metadata": {
  "kernelspec": {
   "display_name": ".venv",
   "language": "python",
   "name": "python3"
  },
  "language_info": {
   "codemirror_mode": {
    "name": "ipython",
    "version": 3
   },
   "file_extension": ".py",
   "mimetype": "text/x-python",
   "name": "python",
   "nbconvert_exporter": "python",
   "pygments_lexer": "ipython3",
   "version": "3.9.9"
  },
  "orig_nbformat": 4,
  "vscode": {
   "interpreter": {
    "hash": "f12eafbfb4f344efca36c41f45dc872892b3fee554b97ee162efb4a5a84b036b"
   }
  }
 },
 "nbformat": 4,
 "nbformat_minor": 2
}
